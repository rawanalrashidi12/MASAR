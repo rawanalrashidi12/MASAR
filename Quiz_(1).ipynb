{
  "nbformat": 4,
  "nbformat_minor": 0,
  "metadata": {
    "colab": {
      "provenance": [],
      "include_colab_link": true
    },
    "kernelspec": {
      "name": "python3",
      "display_name": "Python 3"
    },
    "language_info": {
      "name": "python"
    }
  },
  "cells": [
    {
      "cell_type": "markdown",
      "metadata": {
        "id": "view-in-github",
        "colab_type": "text"
      },
      "source": [
        "<a href=\"https://colab.research.google.com/github/rawanalrashidi12/MASAR/blob/main/Quiz_(1).ipynb\" target=\"_parent\"><img src=\"https://colab.research.google.com/assets/colab-badge.svg\" alt=\"Open In Colab\"/></a>"
      ]
    },
    {
      "cell_type": "code",
      "source": [
        "def two_sum(nums, target):\n",
        "    # Create a dictionary to store the difference between the target sum and each number\n",
        "    num_dict = {}\n",
        "\n",
        "    # Iterate through the array\n",
        "    for i, num in enumerate(nums):\n",
        "        # Calculate the difference needed to reach the target sum\n",
        "        difference = target - num\n",
        "\n",
        "        # If the difference is already in the dictionary, it means we found the pair\n",
        "        if difference in num_dict:\n",
        "            # Return the indices of the current number and the number that makes up the target sum\n",
        "            return [num_dict[difference], i]\n",
        "\n",
        "        # Otherwise, add the current number and its index to the dictionary\n",
        "        num_dict[num] = i\n",
        "\n",
        "    # If no solution is found, return None or an empty list\n",
        "    return None\n",
        "\n",
        "# Example usage:\n",
        "nums = [2, 5, 11, 15,6,7,9,10]\n",
        "target = 9\n",
        "print(two_sum(nums, target))  # Output: [0, 5] (indices of numbers 2 and 7 which add up to 9)"
      ],
      "metadata": {
        "colab": {
          "base_uri": "https://localhost:8080/"
        },
        "id": "SZT9U7TJM4uS",
        "outputId": "7c25662a-a1e3-4f9d-c4ea-79b6987eaadd"
      },
      "execution_count": 2,
      "outputs": [
        {
          "output_type": "stream",
          "name": "stdout",
          "text": [
            "[0, 5]\n"
          ]
        }
      ]
    }
  ]
}