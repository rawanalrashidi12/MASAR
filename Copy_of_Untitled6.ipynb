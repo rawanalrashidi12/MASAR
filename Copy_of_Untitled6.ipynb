{
  "nbformat": 4,
  "nbformat_minor": 0,
  "metadata": {
    "colab": {
      "provenance": [],
      "authorship_tag": "ABX9TyPNgrXe4z9qdYF7YQ6qhqJA",
      "include_colab_link": true
    },
    "kernelspec": {
      "name": "python3",
      "display_name": "Python 3"
    },
    "language_info": {
      "name": "python"
    }
  },
  "cells": [
    {
      "cell_type": "markdown",
      "metadata": {
        "id": "view-in-github",
        "colab_type": "text"
      },
      "source": [
        "<a href=\"https://colab.research.google.com/github/rawanalrashidi12/MASAR/blob/main/Copy_of_Untitled6.ipynb\" target=\"_parent\"><img src=\"https://colab.research.google.com/assets/colab-badge.svg\" alt=\"Open In Colab\"/></a>"
      ]
    },
    {
      "cell_type": "code",
      "execution_count": 1,
      "metadata": {
        "colab": {
          "base_uri": "https://localhost:8080/"
        },
        "id": "nQWyo-f1xn1M",
        "outputId": "1d2cb046-c042-4bbd-de5e-e1c8fd945bd7"
      },
      "outputs": [
        {
          "output_type": "stream",
          "name": "stdout",
          "text": [
            "معدل المكافأة: 10.0%\n"
          ]
        }
      ],
      "source": [
        "import numpy as np\n",
        "\n",
        "def calculate_bonus(years, evaluation):\n",
        "    if years <= 10:\n",
        "        bonus = np.select([evaluation == \"Excellent\", evaluation == \"Poor\"], [0.10, 0.05], default=0)\n",
        "    else:\n",
        "        bonus = np.select([evaluation == \"Excellent\", evaluation == \"Poor\"], [0.20, 0.15], default=0)\n",
        "\n",
        "    return bonus\n",
        "\n",
        "# تعيين القيم\n",
        "employee_years = 8\n",
        "employee_evaluation = \"Excellent\"\n",
        "\n",
        "# حساب المكافأة\n",
        "bonus = calculate_bonus(employee_years, employee_evaluation)\n",
        "\n",
        "# طباعة نتيجة الحساب\n",
        "print(f\"معدل المكافأة: {bonus * 100}%\")"
      ]
    }
  ]
}