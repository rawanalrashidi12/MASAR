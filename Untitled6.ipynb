{
  "nbformat": 4,
  "nbformat_minor": 0,
  "metadata": {
    "colab": {
      "provenance": [],
      "authorship_tag": "ABX9TyPn2hDM3w7mK1VFBBT3blnj",
      "include_colab_link": true
    },
    "kernelspec": {
      "name": "python3",
      "display_name": "Python 3"
    },
    "language_info": {
      "name": "python"
    }
  },
  "cells": [
    {
      "cell_type": "markdown",
      "metadata": {
        "id": "view-in-github",
        "colab_type": "text"
      },
      "source": [
        "<a href=\"https://colab.research.google.com/github/rawanalrashidi12/MASAR/blob/main/Untitled6.ipynb\" target=\"_parent\"><img src=\"https://colab.research.google.com/assets/colab-badge.svg\" alt=\"Open In Colab\"/></a>"
      ]
    },
    {
      "cell_type": "code",
      "execution_count": 1,
      "metadata": {
        "colab": {
          "base_uri": "https://localhost:8080/"
        },
        "id": "nQWyo-f1xn1M",
        "outputId": "5acd3abe-5217-4594-b987-6c40d5a4e232"
      },
      "outputs": [
        {
          "output_type": "stream",
          "name": "stdout",
          "text": [
            " أهلاً بالجميع، أنا أسمي روان، عمري 23 عامًا وسأصبح اقوى مبرمجة على الإطلاق \n"
          ]
        }
      ],
      "source": [
        "# تعريف لمتغير الاسم\n",
        "name = \"روان\"\n",
        "# تعريف لمتغير العمر\n",
        "age = '23'\n",
        "# أمر طباعة\n",
        "print(\" أهلاً بالجميع، أنا أسمي روان، عمري 23 عامًا وسأصبح اقوى مبرمجة على الإطلاق \")"
      ]
    }
  ]
}