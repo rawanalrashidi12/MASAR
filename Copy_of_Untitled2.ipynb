{
  "nbformat": 4,
  "nbformat_minor": 0,
  "metadata": {
    "colab": {
      "provenance": [],
      "toc_visible": true,
      "authorship_tag": "ABX9TyN41+BSEUqTS6oJrx6oHu9m",
      "include_colab_link": true
    },
    "kernelspec": {
      "name": "python3",
      "display_name": "Python 3"
    },
    "language_info": {
      "name": "python"
    }
  },
  "cells": [
    {
      "cell_type": "markdown",
      "metadata": {
        "id": "view-in-github",
        "colab_type": "text"
      },
      "source": [
        "<a href=\"https://colab.research.google.com/github/rawanalrashidi12/MASAR/blob/main/Copy_of_Untitled2.ipynb\" target=\"_parent\"><img src=\"https://colab.research.google.com/assets/colab-badge.svg\" alt=\"Open In Colab\"/></a>"
      ]
    },
    {
      "cell_type": "code",
      "execution_count": 1,
      "metadata": {
        "id": "Y6djkJKHgoJw",
        "outputId": "0ae72ef5-0fd1-40e4-df20-576d2ff76b4e",
        "colab": {
          "base_uri": "https://localhost:8080/"
        }
      },
      "outputs": [
        {
          "output_type": "stream",
          "name": "stdout",
          "text": [
            "\n",
            "* \n",
            "* * \n",
            "* * * \n",
            "* * * * \n",
            "* * * * * \n",
            "* * * * \n",
            "* * * \n",
            "* * \n",
            "* \n"
          ]
        }
      ],
      "source": [
        "# Set the value of 'n' to 5 (this will determine the number of lines in the pattern)\n",
        "n = 5\n",
        "\n",
        "# Iterate through the range of numbers from 0 to 'n' (exclusive)\n",
        "for i in range(n):\n",
        "    # Iterate through the range of numbers from 0 to 'i' (exclusive) for each 'i' in the outer loop\n",
        "    for j in range(i):\n",
        "        # Print '*' followed by a space without a new line (end=\"\" ensures printing in the same line)\n",
        "        print('* ', end=\"\")\n",
        "    # Move to the next line after printing '*' characters for the current 'i'\n",
        "    print('')\n",
        "\n",
        "# Iterate through the range of numbers from 'n' down to 1 (inclusive), decreasing by 1 in each iteration\n",
        "for i in range(n, 0, -1):\n",
        "    # Iterate through the range of numbers from 0 to 'i' (exclusive) for each 'i' in the outer loop\n",
        "    for j in range(i):\n",
        "        # Print '*' followed by a space without a new line (end=\"\" ensures printing in the same line)\n",
        "        print('* ', end=\"\")\n",
        "    # Move to the next line after printing '*' characters for the current 'i'\n",
        "    print('')"
      ]
    },
    {
      "cell_type": "markdown",
      "source": [
        "2\n"
      ],
      "metadata": {
        "id": "ltg0hV_w4OHV"
      }
    },
    {
      "cell_type": "code",
      "source": [
        "def is_prime(num):\n",
        "    \"\"\"Check if a number is prime.\"\"\"\n",
        "    if num < 2:\n",
        "        return False\n",
        "    for i in range(2, int(num**0.5) + 1):\n",
        "        if num % i == 0:\n",
        "            return False\n",
        "    return True\n",
        "\n",
        "# Find the first 3 prime numbers greater than 10 but less than 99\n",
        "count = 0\n",
        "number = 11  # Start checking from 11\n",
        "\n",
        "while count < 3:\n",
        "    if is_prime(number):\n",
        "        print(number)\n",
        "        count += 1\n",
        "    number += 1"
      ],
      "metadata": {
        "colab": {
          "base_uri": "https://localhost:8080/"
        },
        "id": "UsPlAqGx4ZLb",
        "outputId": "53d0d0e3-c23c-4991-f305-4db20d00891a"
      },
      "execution_count": 2,
      "outputs": [
        {
          "output_type": "stream",
          "name": "stdout",
          "text": [
            "11\n",
            "13\n",
            "17\n"
          ]
        }
      ]
    }
  ]
}